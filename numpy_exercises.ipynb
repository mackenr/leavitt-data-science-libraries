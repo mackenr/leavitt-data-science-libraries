{
 "cells": [
  {
   "cell_type": "code",
   "execution_count": 2,
   "id": "be4e531c-f806-4fda-a523-2d98d5801388",
   "metadata": {},
   "outputs": [],
   "source": [
    "import numpy as np"
   ]
  },
  {
   "cell_type": "code",
   "execution_count": 3,
   "id": "a6b22124-247d-45ee-8df0-fd639fe05bf2",
   "metadata": {},
   "outputs": [],
   "source": [
    "a = np.array([4, 10, 12, 23, -2, -1, 0, 0, 0, -6, 3, -7])\n",
    "\n",
    "# How many negative numbers are there?"
   ]
  },
  {
   "cell_type": "code",
   "execution_count": 4,
   "id": "9a2945cc-ac7f-4398-9d02-f5bd995b609e",
   "metadata": {},
   "outputs": [
    {
     "data": {
      "text/plain": [
       "array([False, False, False, False,  True,  True, False, False, False,\n",
       "        True, False,  True])"
      ]
     },
     "execution_count": 4,
     "metadata": {},
     "output_type": "execute_result"
    }
   ],
   "source": [
    "# create a mask from a boolean assessment:\n",
    "a < 0"
   ]
  },
  {
   "cell_type": "code",
   "execution_count": 5,
   "id": "9399fe51-f76e-4891-b90f-9d90d9612bc7",
   "metadata": {},
   "outputs": [
    {
     "data": {
      "text/plain": [
       "array([-2, -1, -6, -7])"
      ]
     },
     "execution_count": 5,
     "metadata": {},
     "output_type": "execute_result"
    }
   ],
   "source": [
    "a[a < 0]"
   ]
  },
  {
   "cell_type": "code",
   "execution_count": 6,
   "id": "c3a905c0-85d3-428c-b475-4144c63f9052",
   "metadata": {},
   "outputs": [
    {
     "data": {
      "text/plain": [
       "4"
      ]
     },
     "execution_count": 6,
     "metadata": {},
     "output_type": "execute_result"
    }
   ],
   "source": [
    "len(a[a < 0])"
   ]
  },
  {
   "cell_type": "code",
   "execution_count": 8,
   "id": "9b7066ee-aca6-4f2a-a864-3c2fa756bfba",
   "metadata": {},
   "outputs": [
    {
     "data": {
      "text/plain": [
       "(4,)"
      ]
     },
     "execution_count": 8,
     "metadata": {},
     "output_type": "execute_result"
    }
   ],
   "source": [
    "a[a < 0].shape"
   ]
  },
  {
   "cell_type": "code",
   "execution_count": null,
   "id": "901319ea-eea2-4996-99e2-6583c4094a7f",
   "metadata": {},
   "outputs": [],
   "source": [
    "# How many positive numbers are there?"
   ]
  },
  {
   "cell_type": "code",
   "execution_count": 9,
   "id": "63d92590-badf-40f8-9f2b-5ac830b0c529",
   "metadata": {},
   "outputs": [
    {
     "data": {
      "text/plain": [
       "5"
      ]
     },
     "execution_count": 9,
     "metadata": {},
     "output_type": "execute_result"
    }
   ],
   "source": [
    "len(a[a > 0])"
   ]
  },
  {
   "cell_type": "code",
   "execution_count": null,
   "id": "681fd1e7-c569-49fe-ab77-39de676f9d06",
   "metadata": {},
   "outputs": [],
   "source": [
    "# How many even positive numbers are there?"
   ]
  },
  {
   "cell_type": "code",
   "execution_count": 10,
   "id": "d3df62eb-777a-4b9b-b0fa-f1d681ce059e",
   "metadata": {},
   "outputs": [],
   "source": [
    "pos_nums = a[a > 0]"
   ]
  },
  {
   "cell_type": "code",
   "execution_count": 13,
   "id": "a91b6e7f-5012-48e0-a6ea-5596f8df1128",
   "metadata": {},
   "outputs": [
    {
     "data": {
      "text/plain": [
       "3"
      ]
     },
     "execution_count": 13,
     "metadata": {},
     "output_type": "execute_result"
    }
   ],
   "source": [
    "len(pos_nums[pos_nums % 2 == 0])"
   ]
  },
  {
   "cell_type": "code",
   "execution_count": 17,
   "id": "b8105bc7-45a2-4d4e-bbdd-eabf03300fd1",
   "metadata": {},
   "outputs": [
    {
     "data": {
      "text/plain": [
       "array([ 4, 10, 12])"
      ]
     },
     "execution_count": 17,
     "metadata": {},
     "output_type": "execute_result"
    }
   ],
   "source": [
    "pos_nums[pos_nums % 2 == 0]"
   ]
  },
  {
   "cell_type": "code",
   "execution_count": 16,
   "id": "47c8e76e-99ec-42c7-bcb0-ab8af4108219",
   "metadata": {},
   "outputs": [
    {
     "data": {
      "text/plain": [
       "array([ 4, 10, 12])"
      ]
     },
     "execution_count": 16,
     "metadata": {},
     "output_type": "execute_result"
    }
   ],
   "source": [
    "# binary and symbol ampersand for combined assessments\n",
    "a[(a > 0) & (a % 2 == 0)]"
   ]
  },
  {
   "cell_type": "code",
   "execution_count": null,
   "id": "83b78be2-ddc5-4f64-86be-9876e620b0e7",
   "metadata": {},
   "outputs": [],
   "source": [
    "# If you were to add 3 to each data point, how many positive numbers would there be?"
   ]
  },
  {
   "cell_type": "code",
   "execution_count": 19,
   "id": "12f6503b-1f5e-4f44-9103-70998d6f536f",
   "metadata": {},
   "outputs": [
    {
     "data": {
      "text/plain": [
       "10"
      ]
     },
     "execution_count": 19,
     "metadata": {},
     "output_type": "execute_result"
    }
   ],
   "source": [
    "len(a[(a + 3) > 0])"
   ]
  },
  {
   "cell_type": "code",
   "execution_count": null,
   "id": "c08005b7-39aa-4013-a941-78c8a074110a",
   "metadata": {},
   "outputs": [],
   "source": [
    "# If you squared each number, what would the new mean and standard deviation be?"
   ]
  },
  {
   "cell_type": "code",
   "execution_count": 20,
   "id": "b9ef018d-22b5-404a-995e-72ff8667c50e",
   "metadata": {},
   "outputs": [],
   "source": [
    "a_squared = a ** 2"
   ]
  },
  {
   "cell_type": "code",
   "execution_count": 21,
   "id": "e03f3283-a6fe-4e7a-a785-b4948a6fe610",
   "metadata": {},
   "outputs": [
    {
     "data": {
      "text/plain": [
       "(74.0, 144.0243035046516)"
      ]
     },
     "execution_count": 21,
     "metadata": {},
     "output_type": "execute_result"
    }
   ],
   "source": [
    "a_squared.mean(), a_squared.std()"
   ]
  },
  {
   "cell_type": "code",
   "execution_count": null,
   "id": "aec3db28-b2b7-47ab-882b-57800515431e",
   "metadata": {},
   "outputs": [],
   "source": [
    "# A common statistical operation on a dataset is centering. \n",
    "# This means to adjust the data such that the mean of the data is 0. \n",
    "# This is done by subtracting the mean from each data point. Center the data set. See this link for more on centering."
   ]
  },
  {
   "cell_type": "code",
   "execution_count": 22,
   "id": "3cdfa6e6-74c5-4063-b3f0-3ca7788053f0",
   "metadata": {},
   "outputs": [],
   "source": [
    "centered_a = a - a.mean()"
   ]
  },
  {
   "cell_type": "code",
   "execution_count": 23,
   "id": "06aa32f3-7468-4f00-b489-f4432f0262e7",
   "metadata": {},
   "outputs": [
    {
     "data": {
      "text/plain": [
       "0.0"
      ]
     },
     "execution_count": 23,
     "metadata": {},
     "output_type": "execute_result"
    }
   ],
   "source": [
    "centered_a.mean()"
   ]
  },
  {
   "cell_type": "code",
   "execution_count": null,
   "id": "06705522-8f82-4c64-a005-274f9d8485bd",
   "metadata": {},
   "outputs": [],
   "source": [
    "# Calculate the z-score for each data point. Recall that the z-score is given by:"
   ]
  },
  {
   "cell_type": "code",
   "execution_count": null,
   "id": "01bd91cb-e8f3-4a52-b236-5b7912cc0275",
   "metadata": {},
   "outputs": [],
   "source": [
    "# Z=x−μ/σ"
   ]
  },
  {
   "cell_type": "code",
   "execution_count": 24,
   "id": "cef0cd70-abe0-4697-bb6b-550a7c67bd4f",
   "metadata": {},
   "outputs": [],
   "source": [
    "z_scores = centered_a / a.std()"
   ]
  },
  {
   "cell_type": "code",
   "execution_count": null,
   "id": "7a4f8979-77ef-4051-b9cb-c1ed58362389",
   "metadata": {},
   "outputs": [],
   "source": [
    "# equivalent: z_scores = (a - a.mean()) / a.std()"
   ]
  },
  {
   "cell_type": "code",
   "execution_count": 25,
   "id": "1de1e122-47a5-40ce-9e4e-9becf2042806",
   "metadata": {},
   "outputs": [
    {
     "data": {
      "text/plain": [
       "array([ 0.12403473,  0.86824314,  1.11631261,  2.48069469, -0.62017367,\n",
       "       -0.49613894, -0.3721042 , -0.3721042 , -0.3721042 , -1.11631261,\n",
       "        0.        , -1.24034735])"
      ]
     },
     "execution_count": 25,
     "metadata": {},
     "output_type": "execute_result"
    }
   ],
   "source": [
    "z_scores"
   ]
  },
  {
   "cell_type": "code",
   "execution_count": null,
   "id": "e2c4f60e-444a-46e7-8c24-399cb9cfc2de",
   "metadata": {},
   "outputs": [],
   "source": [
    "# Copy the setup and exercise directions from More Numpy Practice into your numpy_exercises.py and add your solutions."
   ]
  },
  {
   "cell_type": "code",
   "execution_count": 27,
   "id": "6c677b8e-7603-4185-9686-068b70b35fa0",
   "metadata": {},
   "outputs": [],
   "source": [
    "## Setup 1\n",
    "a = [1, 2, 3, 4, 5, 6, 7, 8, 9, 10]"
   ]
  },
  {
   "cell_type": "code",
   "execution_count": null,
   "id": "4825a208-c9a6-4ea6-bc76-8bafcde9a19b",
   "metadata": {},
   "outputs": [],
   "source": [
    "# Use python's built in functionality/operators to determine the following:\n",
    "# Exercise 1 - Make a variable called sum_of_a to hold the sum of all the numbers in above list"
   ]
  },
  {
   "cell_type": "code",
   "execution_count": 28,
   "id": "9afc5c5d-c099-4cfb-9784-ac29c9a268c5",
   "metadata": {},
   "outputs": [
    {
     "data": {
      "text/plain": [
       "list"
      ]
     },
     "execution_count": 28,
     "metadata": {},
     "output_type": "execute_result"
    }
   ],
   "source": [
    "type(a)"
   ]
  },
  {
   "cell_type": "code",
   "execution_count": 29,
   "id": "1ffe7f18-63db-4942-9f74-273848a13757",
   "metadata": {},
   "outputs": [
    {
     "data": {
      "text/plain": [
       "55"
      ]
     },
     "execution_count": 29,
     "metadata": {},
     "output_type": "execute_result"
    }
   ],
   "source": [
    "sum(a)"
   ]
  },
  {
   "cell_type": "code",
   "execution_count": null,
   "id": "d8e82755-fa69-4cfb-ae8d-1622a22f8034",
   "metadata": {},
   "outputs": [],
   "source": [
    "# Exercise 2 - Make a variable named min_of_a to hold the minimum of all the numbers in the above list"
   ]
  },
  {
   "cell_type": "code",
   "execution_count": 30,
   "id": "34c807a8-3ae7-4b77-9e4e-ac1c1851d9e4",
   "metadata": {},
   "outputs": [
    {
     "data": {
      "text/plain": [
       "1"
      ]
     },
     "execution_count": 30,
     "metadata": {},
     "output_type": "execute_result"
    }
   ],
   "source": [
    "min(a)"
   ]
  },
  {
   "cell_type": "code",
   "execution_count": null,
   "id": "cafe902c-3cc1-42d1-9551-6e5498dcaf66",
   "metadata": {},
   "outputs": [],
   "source": [
    "# Exercise 3 - Make a variable named max_of_a to hold the max number of all the numbers in the above list"
   ]
  },
  {
   "cell_type": "code",
   "execution_count": 31,
   "id": "0ce7ce00-ca4e-44ce-bb38-b2f086d30ab6",
   "metadata": {},
   "outputs": [
    {
     "data": {
      "text/plain": [
       "10"
      ]
     },
     "execution_count": 31,
     "metadata": {},
     "output_type": "execute_result"
    }
   ],
   "source": [
    "max(a)"
   ]
  },
  {
   "cell_type": "code",
   "execution_count": null,
   "id": "19217cef-ee34-4e11-8043-f016d0379d66",
   "metadata": {},
   "outputs": [],
   "source": [
    "# Exercise 4 - Make a variable named mean_of_a to hold the average of all the numbers in the above list"
   ]
  },
  {
   "cell_type": "code",
   "execution_count": 33,
   "id": "53d12008-1473-45a9-9c79-756c00355402",
   "metadata": {},
   "outputs": [
    {
     "data": {
      "text/plain": [
       "5.5"
      ]
     },
     "execution_count": 33,
     "metadata": {},
     "output_type": "execute_result"
    }
   ],
   "source": [
    "sum(a) / len(a)"
   ]
  },
  {
   "cell_type": "code",
   "execution_count": null,
   "id": "63634321-31bd-40fa-a7d1-025b0f4c235b",
   "metadata": {},
   "outputs": [],
   "source": [
    "# Exercise 5 - Make a variable named product_of_a to hold the product of multiplying all the numbers in the above list together"
   ]
  },
  {
   "cell_type": "code",
   "execution_count": 34,
   "id": "93bf82c4-922e-424e-89ef-eb9e125c4cd8",
   "metadata": {},
   "outputs": [],
   "source": [
    "prod_a = 1\n",
    "for n in a:\n",
    "    prod_a *= n"
   ]
  },
  {
   "cell_type": "code",
   "execution_count": 35,
   "id": "120254d8-d718-4782-b16a-2bf0c9d892ee",
   "metadata": {},
   "outputs": [
    {
     "data": {
      "text/plain": [
       "3628800"
      ]
     },
     "execution_count": 35,
     "metadata": {},
     "output_type": "execute_result"
    }
   ],
   "source": [
    "prod_a"
   ]
  },
  {
   "cell_type": "code",
   "execution_count": null,
   "id": "3f45d567-b468-47e2-84c9-86c6d808596a",
   "metadata": {},
   "outputs": [],
   "source": [
    "# Exercise 6 - Make a variable named squares_of_a. It should hold each number in a squared like [1, 4, 9, 16, 25...]"
   ]
  },
  {
   "cell_type": "code",
   "execution_count": 36,
   "id": "040c97a2-5738-463a-a503-4c33eb35bde5",
   "metadata": {},
   "outputs": [
    {
     "data": {
      "text/plain": [
       "[1, 4, 9, 16, 25, 36, 49, 64, 81, 100]"
      ]
     },
     "execution_count": 36,
     "metadata": {},
     "output_type": "execute_result"
    }
   ],
   "source": [
    "[n ** 2 for n in a]"
   ]
  },
  {
   "cell_type": "code",
   "execution_count": null,
   "id": "d73c6f97-d88f-4c04-88f5-fac0d0ecebcd",
   "metadata": {},
   "outputs": [],
   "source": [
    "# Exercise 7 - Make a variable named odds_in_a. It should hold only the odd numbers"
   ]
  },
  {
   "cell_type": "code",
   "execution_count": 38,
   "id": "a7905da6-08a6-42b8-be57-8b678873365a",
   "metadata": {},
   "outputs": [
    {
     "data": {
      "text/plain": [
       "[1, 3, 5, 7, 9]"
      ]
     },
     "execution_count": 38,
     "metadata": {},
     "output_type": "execute_result"
    }
   ],
   "source": [
    "[n for n in a if n % 2 != 0]"
   ]
  },
  {
   "cell_type": "code",
   "execution_count": null,
   "id": "4614d6ab-abfe-47fc-b55d-c79b9cb7fc3a",
   "metadata": {},
   "outputs": [],
   "source": [
    "# Exercise 8 - Make a variable named evens_in_a. It should hold only the evens."
   ]
  },
  {
   "cell_type": "code",
   "execution_count": 39,
   "id": "39a32ab6-e91c-4303-b992-ebd07c1c4ecb",
   "metadata": {},
   "outputs": [
    {
     "data": {
      "text/plain": [
       "[2, 4, 6, 8, 10]"
      ]
     },
     "execution_count": 39,
     "metadata": {},
     "output_type": "execute_result"
    }
   ],
   "source": [
    "[n for n in a if n % 2 == 0]"
   ]
  },
  {
   "cell_type": "code",
   "execution_count": 45,
   "id": "6eaf60cb-32ea-42dd-a49d-5b535341430e",
   "metadata": {},
   "outputs": [],
   "source": [
    "# ## Setup 2: Consider what it would take to find the sum, min, max, average, sum, product, and list of squares for this list of two lists.\n",
    "b = [\n",
    "    [3, 4, 5],\n",
    "    [6, 7, 8]\n",
    "]"
   ]
  },
  {
   "cell_type": "code",
   "execution_count": 41,
   "id": "1bca797c-29b8-4240-8f83-c6d5447341af",
   "metadata": {},
   "outputs": [
    {
     "data": {
      "text/plain": [
       "2"
      ]
     },
     "execution_count": 41,
     "metadata": {},
     "output_type": "execute_result"
    }
   ],
   "source": [
    "len(b)"
   ]
  },
  {
   "cell_type": "code",
   "execution_count": 42,
   "id": "f5abcbf9-daf1-461b-8300-5409b2f715c9",
   "metadata": {},
   "outputs": [
    {
     "data": {
      "text/plain": [
       "3"
      ]
     },
     "execution_count": 42,
     "metadata": {},
     "output_type": "execute_result"
    }
   ],
   "source": [
    "len(b[0])"
   ]
  },
  {
   "cell_type": "code",
   "execution_count": 43,
   "id": "d0b32dc3-3f27-439b-b7bc-c225c16de0fb",
   "metadata": {},
   "outputs": [
    {
     "data": {
      "text/plain": [
       "list"
      ]
     },
     "execution_count": 43,
     "metadata": {},
     "output_type": "execute_result"
    }
   ],
   "source": [
    "type(b)"
   ]
  },
  {
   "cell_type": "code",
   "execution_count": 46,
   "id": "d62f5f52-5f44-4104-a01e-3318e72b4924",
   "metadata": {},
   "outputs": [],
   "source": [
    "b2 = np.array(b)"
   ]
  },
  {
   "cell_type": "code",
   "execution_count": 47,
   "id": "00fde2a5-830f-4148-9d41-f83d3e1eaaca",
   "metadata": {},
   "outputs": [],
   "source": [
    "# # Exercise 1 - refactor the following to use numpy. Use sum_of_b as the variable. \n",
    "# **Hint, you'll first need to make sure that the \"b\" variable is a numpy array**\n",
    "sum_of_b = 0\n",
    "for row in b:\n",
    "    sum_of_b += sum(row)"
   ]
  },
  {
   "cell_type": "code",
   "execution_count": 50,
   "id": "dafde337-dd65-4798-bc0a-21cec966e2d6",
   "metadata": {},
   "outputs": [
    {
     "data": {
      "text/plain": [
       "33"
      ]
     },
     "execution_count": 50,
     "metadata": {},
     "output_type": "execute_result"
    }
   ],
   "source": [
    "sum_of_b"
   ]
  },
  {
   "cell_type": "code",
   "execution_count": 49,
   "id": "291d935f-7f65-4d4f-9eaa-f64b258c72b5",
   "metadata": {},
   "outputs": [
    {
     "data": {
      "text/plain": [
       "33"
      ]
     },
     "execution_count": 49,
     "metadata": {},
     "output_type": "execute_result"
    }
   ],
   "source": [
    "b2.sum()"
   ]
  },
  {
   "cell_type": "code",
   "execution_count": 52,
   "id": "2e235392-a976-4105-8c10-b4a3200bf6cc",
   "metadata": {},
   "outputs": [],
   "source": [
    "# # Exercise 2 - refactor the following to use numpy. \n",
    "min_of_b = min(b[0]) if min(b[0]) <= min(b[1]) else min(b[1])  "
   ]
  },
  {
   "cell_type": "code",
   "execution_count": 53,
   "id": "ad8f35e8-6aeb-40f9-9527-df2cdf5b9819",
   "metadata": {},
   "outputs": [
    {
     "data": {
      "text/plain": [
       "3"
      ]
     },
     "execution_count": 53,
     "metadata": {},
     "output_type": "execute_result"
    }
   ],
   "source": [
    "min_of_b"
   ]
  },
  {
   "cell_type": "code",
   "execution_count": 51,
   "id": "4bca2e65-7587-4cd9-9d75-ecab8579acec",
   "metadata": {},
   "outputs": [
    {
     "data": {
      "text/plain": [
       "3"
      ]
     },
     "execution_count": 51,
     "metadata": {},
     "output_type": "execute_result"
    }
   ],
   "source": [
    "b2.min()"
   ]
  },
  {
   "cell_type": "code",
   "execution_count": 19,
   "id": "44640958-f694-4d8f-93ab-1509bb43a247",
   "metadata": {},
   "outputs": [],
   "source": [
    "# # Exercise 3 - refactor the following maximum calculation to find the answer with numpy.\n",
    "max_of_b = max(b[0]) if max(b[0]) >= max(b[1]) else max(b[1])"
   ]
  },
  {
   "cell_type": "code",
   "execution_count": 54,
   "id": "68ccf137-ff3c-494a-ae85-be11a5a5cb1b",
   "metadata": {},
   "outputs": [
    {
     "data": {
      "text/plain": [
       "8"
      ]
     },
     "execution_count": 54,
     "metadata": {},
     "output_type": "execute_result"
    }
   ],
   "source": [
    "b2.max()"
   ]
  },
  {
   "cell_type": "code",
   "execution_count": 55,
   "id": "fcc19328-95c6-451d-90c5-f3bcb450589f",
   "metadata": {},
   "outputs": [],
   "source": [
    "# # Exercise 4 - refactor the following using numpy to find the mean of b\n",
    "mean_of_b = (sum(b[0]) + sum(b[1])) / (len(b[0]) + len(b[1]))"
   ]
  },
  {
   "cell_type": "code",
   "execution_count": 56,
   "id": "7231f21d-c1ab-4e17-be99-f7766972eadb",
   "metadata": {},
   "outputs": [
    {
     "data": {
      "text/plain": [
       "5.5"
      ]
     },
     "execution_count": 56,
     "metadata": {},
     "output_type": "execute_result"
    }
   ],
   "source": [
    "b2.mean()"
   ]
  },
  {
   "cell_type": "code",
   "execution_count": 57,
   "id": "55e1de77-b00c-4870-b2fd-4d7066d4fe75",
   "metadata": {},
   "outputs": [],
   "source": [
    "# # Exercise 5 - refactor the following to use numpy for calculating the product of all numbers multiplied together.\n",
    "product_of_b = 1\n",
    "for row in b:\n",
    "    for number in row:\n",
    "        product_of_b *= number"
   ]
  },
  {
   "cell_type": "code",
   "execution_count": 58,
   "id": "51a14038-d74e-417c-b82a-3b32bdade95c",
   "metadata": {},
   "outputs": [
    {
     "data": {
      "text/plain": [
       "20160"
      ]
     },
     "execution_count": 58,
     "metadata": {},
     "output_type": "execute_result"
    }
   ],
   "source": [
    "np.prod(b2)"
   ]
  },
  {
   "cell_type": "code",
   "execution_count": null,
   "id": "5ed38a75-b187-4ae6-b2f0-dac3cc6f818d",
   "metadata": {},
   "outputs": [],
   "source": [
    "# # Exercise 6 - refactor the following to use numpy to find the list of squares \n",
    "squares_of_b = []\n",
    "for row in b:\n",
    "    for number in row:\n",
    "        squares_of_b.append(number**2)"
   ]
  },
  {
   "cell_type": "code",
   "execution_count": 59,
   "id": "63b52231-906a-431d-90bc-4ffcf66efaf4",
   "metadata": {},
   "outputs": [
    {
     "data": {
      "text/plain": [
       "array([[ 9, 16, 25],\n",
       "       [36, 49, 64]])"
      ]
     },
     "execution_count": 59,
     "metadata": {},
     "output_type": "execute_result"
    }
   ],
   "source": [
    "np.square(b2)"
   ]
  },
  {
   "cell_type": "code",
   "execution_count": 60,
   "id": "3f609cb9-9747-430c-8f73-bba752c8cb9e",
   "metadata": {},
   "outputs": [],
   "source": [
    "# # Exercise 7 - refactor using numpy to determine the odds_in_b\n",
    "odds_in_b = []\n",
    "for row in b:\n",
    "    for number in row:\n",
    "        if(number % 2 != 0):\n",
    "            odds_in_b.append(number)\n",
    "            "
   ]
  },
  {
   "cell_type": "code",
   "execution_count": 61,
   "id": "c842c792-5a61-4ce4-b34f-b4562bbde784",
   "metadata": {},
   "outputs": [
    {
     "data": {
      "text/plain": [
       "array([3, 5, 7])"
      ]
     },
     "execution_count": 61,
     "metadata": {},
     "output_type": "execute_result"
    }
   ],
   "source": [
    "b2[b2 % 2 != 0]"
   ]
  },
  {
   "cell_type": "code",
   "execution_count": 62,
   "id": "b018eda6-82ee-460d-a44f-3f0992caffb9",
   "metadata": {},
   "outputs": [],
   "source": [
    "# # Exercise 8 - refactor the following to use numpy to filter only the even numbers\n",
    "evens_in_b = []\n",
    "for row in b:\n",
    "    for number in row:\n",
    "        if(number % 2 == 0):\n",
    "            evens_in_b.append(number)"
   ]
  },
  {
   "cell_type": "code",
   "execution_count": 63,
   "id": "2de1c9ae-bd1b-47db-8f52-e0cf90cf5e33",
   "metadata": {},
   "outputs": [
    {
     "data": {
      "text/plain": [
       "array([4, 6, 8])"
      ]
     },
     "execution_count": 63,
     "metadata": {},
     "output_type": "execute_result"
    }
   ],
   "source": [
    "b2[b2 % 2 == 0]"
   ]
  },
  {
   "cell_type": "code",
   "execution_count": 64,
   "id": "37318513-c8fd-4e78-9123-eaa1a225aaa6",
   "metadata": {},
   "outputs": [
    {
     "data": {
      "text/plain": [
       "(2, 3)"
      ]
     },
     "execution_count": 64,
     "metadata": {},
     "output_type": "execute_result"
    }
   ],
   "source": [
    "# # Exercise 9 - print out the shape of the array b.\n",
    "b2.shape"
   ]
  },
  {
   "cell_type": "code",
   "execution_count": 65,
   "id": "adca79ff-3a36-4c2b-9619-752d45e19896",
   "metadata": {},
   "outputs": [
    {
     "data": {
      "text/plain": [
       "array([[3, 4, 5],\n",
       "       [6, 7, 8]])"
      ]
     },
     "execution_count": 65,
     "metadata": {},
     "output_type": "execute_result"
    }
   ],
   "source": [
    "b2"
   ]
  },
  {
   "cell_type": "code",
   "execution_count": 66,
   "id": "235d9375-f72f-4d36-8787-361274b6e2b9",
   "metadata": {},
   "outputs": [],
   "source": [
    "# size vs shape vs len"
   ]
  },
  {
   "cell_type": "code",
   "execution_count": 67,
   "id": "d7b10c9d-4983-4aac-8dbf-d1283ca873c0",
   "metadata": {},
   "outputs": [
    {
     "data": {
      "text/plain": [
       "(6, (2, 3), 2)"
      ]
     },
     "execution_count": 67,
     "metadata": {},
     "output_type": "execute_result"
    }
   ],
   "source": [
    "b2.size, b2.shape, len(b2)"
   ]
  },
  {
   "cell_type": "code",
   "execution_count": 69,
   "id": "be27b86b-d91f-453d-ba51-b82909e3bc69",
   "metadata": {},
   "outputs": [
    {
     "data": {
      "text/plain": [
       "array([[3, 4, 5],\n",
       "       [6, 7, 8]])"
      ]
     },
     "execution_count": 69,
     "metadata": {},
     "output_type": "execute_result"
    }
   ],
   "source": [
    "b2"
   ]
  },
  {
   "cell_type": "markdown",
   "id": "0522709f-84b8-4018-934d-53748c2b3c4d",
   "metadata": {},
   "source": [
    "## "
   ]
  },
  {
   "cell_type": "code",
   "execution_count": 68,
   "id": "5ef33e6f-0eff-42ff-9503-250983d1231d",
   "metadata": {},
   "outputs": [
    {
     "data": {
      "text/plain": [
       "array([[3, 6],\n",
       "       [4, 7],\n",
       "       [5, 8]])"
      ]
     },
     "execution_count": 68,
     "metadata": {},
     "output_type": "execute_result"
    }
   ],
   "source": [
    "# # Exercise 10 - transpose the array b.\n",
    "b2.transpose()"
   ]
  },
  {
   "cell_type": "code",
   "execution_count": 70,
   "id": "30c4f5b3-a849-4747-83e5-e458dc4e5399",
   "metadata": {},
   "outputs": [],
   "source": [
    "# # Exercise 11 - reshape the array b to be a single list of 6 numbers. (1 x 6)"
   ]
  },
  {
   "cell_type": "code",
   "execution_count": 71,
   "id": "54c4f5cb-a132-42bf-a5fa-b23b5d6fc0dc",
   "metadata": {},
   "outputs": [
    {
     "data": {
      "text/plain": [
       "array([[3, 4, 5, 6, 7, 8]])"
      ]
     },
     "execution_count": 71,
     "metadata": {},
     "output_type": "execute_result"
    }
   ],
   "source": [
    "b2.reshape(1,6)"
   ]
  },
  {
   "cell_type": "code",
   "execution_count": null,
   "id": "07c32c06-cc25-487b-b974-47233c552580",
   "metadata": {},
   "outputs": [],
   "source": [
    "# # Exercise 12 - reshape the array b to be a list of 6 lists, each containing only 1 number (6 x 1)"
   ]
  },
  {
   "cell_type": "code",
   "execution_count": 72,
   "id": "44d86d34-a593-44d3-95ba-c4f74f5c6bed",
   "metadata": {},
   "outputs": [
    {
     "data": {
      "text/plain": [
       "array([[3],\n",
       "       [4],\n",
       "       [5],\n",
       "       [6],\n",
       "       [7],\n",
       "       [8]])"
      ]
     },
     "execution_count": 72,
     "metadata": {},
     "output_type": "execute_result"
    }
   ],
   "source": [
    "b2.reshape(6,1)"
   ]
  },
  {
   "cell_type": "code",
   "execution_count": 73,
   "id": "4114d0b5-0d20-48b5-9057-8e491eeb45ff",
   "metadata": {},
   "outputs": [],
   "source": [
    "# ## Setup 3\n",
    "c = [\n",
    "    [1, 2, 3],\n",
    "    [4, 5, 6],\n",
    "    [7, 8, 9]\n",
    "]"
   ]
  },
  {
   "cell_type": "code",
   "execution_count": 74,
   "id": "b3123fde-74fe-4f4c-a127-890fa0952f10",
   "metadata": {},
   "outputs": [],
   "source": [
    "c = np.array(c)"
   ]
  },
  {
   "cell_type": "code",
   "execution_count": null,
   "id": "b53a2e9a-6cfa-468e-aa88-e5bbb2e5568d",
   "metadata": {},
   "outputs": [],
   "source": [
    "# # HINT, you'll first need to make sure that the \"c\" variable is a numpy array prior to using numpy array methods.\n",
    "# # Exercise 1 - Find the min, max, sum, and product of c."
   ]
  },
  {
   "cell_type": "code",
   "execution_count": 75,
   "id": "d98df0cb-8434-4c12-9708-b53edd6a7a8b",
   "metadata": {},
   "outputs": [
    {
     "data": {
      "text/plain": [
       "(1, 9, 45, 362880)"
      ]
     },
     "execution_count": 75,
     "metadata": {},
     "output_type": "execute_result"
    }
   ],
   "source": [
    "c.min(), c.max(), c.sum(), c.prod()"
   ]
  },
  {
   "cell_type": "code",
   "execution_count": null,
   "id": "28e1309b-0caf-4f90-8742-3d9cd2961d49",
   "metadata": {},
   "outputs": [],
   "source": [
    "# # Exercise 2 - Determine the standard deviation of c."
   ]
  },
  {
   "cell_type": "code",
   "execution_count": 79,
   "id": "8a831fe6-9c99-4654-8d4e-06e5430c1bb0",
   "metadata": {},
   "outputs": [
    {
     "data": {
      "text/plain": [
       "2.581988897471611"
      ]
     },
     "execution_count": 79,
     "metadata": {},
     "output_type": "execute_result"
    }
   ],
   "source": [
    "c.std()"
   ]
  },
  {
   "cell_type": "code",
   "execution_count": null,
   "id": "0db3278d-5021-43b5-8bb8-efc66bb0573d",
   "metadata": {},
   "outputs": [],
   "source": [
    "# # Exercise 3 - Determine the variance of c."
   ]
  },
  {
   "cell_type": "code",
   "execution_count": 77,
   "id": "efbdcd1b-b76c-43e7-a680-7b5bdad05b43",
   "metadata": {},
   "outputs": [
    {
     "data": {
      "text/plain": [
       "6.666666666666667"
      ]
     },
     "execution_count": 77,
     "metadata": {},
     "output_type": "execute_result"
    }
   ],
   "source": [
    "c.var()"
   ]
  },
  {
   "cell_type": "code",
   "execution_count": null,
   "id": "560a3671-db22-4544-b9a4-54ca9676abfd",
   "metadata": {},
   "outputs": [],
   "source": [
    "# # Exercise 4 - Print out the shape of the array c"
   ]
  },
  {
   "cell_type": "code",
   "execution_count": 80,
   "id": "ce21d261-16aa-421e-9a29-b36135760f88",
   "metadata": {},
   "outputs": [
    {
     "data": {
      "text/plain": [
       "(3, 3)"
      ]
     },
     "execution_count": 80,
     "metadata": {},
     "output_type": "execute_result"
    }
   ],
   "source": [
    "c.shape"
   ]
  },
  {
   "cell_type": "code",
   "execution_count": null,
   "id": "04f7376c-d757-4c37-b2e7-f881325cbaee",
   "metadata": {},
   "outputs": [],
   "source": [
    "# # Exercise 5 - Transpose c and print out transposed result."
   ]
  },
  {
   "cell_type": "code",
   "execution_count": 81,
   "id": "fd4c8f42-3a51-403a-a571-be0234f9085e",
   "metadata": {},
   "outputs": [
    {
     "name": "stdout",
     "output_type": "stream",
     "text": [
      "[[1 4 7]\n",
      " [2 5 8]\n",
      " [3 6 9]]\n"
     ]
    }
   ],
   "source": [
    "print(c.transpose())"
   ]
  },
  {
   "cell_type": "code",
   "execution_count": null,
   "id": "0a431c37-8e78-4808-ad41-54ac7ae0ca5f",
   "metadata": {},
   "outputs": [],
   "source": [
    "# # Exercise 6 - Get the dot product of the array c with c. "
   ]
  },
  {
   "cell_type": "code",
   "execution_count": 82,
   "id": "20581fec-0e8d-4a75-8068-a1e2b5e95d01",
   "metadata": {},
   "outputs": [
    {
     "data": {
      "text/plain": [
       "array([[ 30,  36,  42],\n",
       "       [ 66,  81,  96],\n",
       "       [102, 126, 150]])"
      ]
     },
     "execution_count": 82,
     "metadata": {},
     "output_type": "execute_result"
    }
   ],
   "source": [
    "np.dot(c, c)"
   ]
  },
  {
   "cell_type": "code",
   "execution_count": null,
   "id": "bbd4df6c-2674-465f-aef2-80d9782b31fa",
   "metadata": {},
   "outputs": [],
   "source": [
    "# # Exercise 7 - Write the code necessary to sum up the result of c times c transposed. Answer should be 261"
   ]
  },
  {
   "cell_type": "code",
   "execution_count": 84,
   "id": "146a26c3-bee7-4e61-a371-dfbec1fa64ed",
   "metadata": {},
   "outputs": [
    {
     "data": {
      "text/plain": [
       "261"
      ]
     },
     "execution_count": 84,
     "metadata": {},
     "output_type": "execute_result"
    }
   ],
   "source": [
    "np.sum(c * c.transpose())"
   ]
  },
  {
   "cell_type": "code",
   "execution_count": null,
   "id": "ffdafecc-2538-424a-b3d3-49576550d1c1",
   "metadata": {},
   "outputs": [],
   "source": [
    "# # Exercise 8 - Write the code necessary to determine the product of c times c transposed. Answer should be 131681894400."
   ]
  },
  {
   "cell_type": "code",
   "execution_count": 85,
   "id": "15a34947-01fc-4559-a0b7-3f6c547b0dd5",
   "metadata": {},
   "outputs": [
    {
     "data": {
      "text/plain": [
       "131681894400"
      ]
     },
     "execution_count": 85,
     "metadata": {},
     "output_type": "execute_result"
    }
   ],
   "source": [
    "np.prod(c * c.transpose())"
   ]
  },
  {
   "cell_type": "code",
   "execution_count": 86,
   "id": "b4c2c69d-7b0a-4dc2-84ab-18f5dc5348bf",
   "metadata": {},
   "outputs": [],
   "source": [
    "# ## Setup 4\n",
    "d = [\n",
    "    [90, 30, 45, 0, 120, 180],\n",
    "    [45, -90, -30, 270, 90, 0],\n",
    "    [60, 45, -45, 90, -45, 180]\n",
    "]\n",
    "d = np.array(d)"
   ]
  },
  {
   "cell_type": "code",
   "execution_count": 87,
   "id": "0afb6a84-01fe-4a9a-860c-92023d062d3b",
   "metadata": {},
   "outputs": [],
   "source": [
    "# # Exercise 1 - Find the sine of all the numbers in d"
   ]
  },
  {
   "cell_type": "code",
   "execution_count": 88,
   "id": "688b522e-23a0-4f9f-bf7a-f371f69d827d",
   "metadata": {},
   "outputs": [
    {
     "data": {
      "text/plain": [
       "array([[ 0.89399666, -0.98803162,  0.85090352,  0.        ,  0.58061118,\n",
       "        -0.80115264],\n",
       "       [ 0.85090352, -0.89399666,  0.98803162, -0.17604595,  0.89399666,\n",
       "         0.        ],\n",
       "       [-0.30481062,  0.85090352, -0.85090352,  0.89399666, -0.85090352,\n",
       "        -0.80115264]])"
      ]
     },
     "execution_count": 88,
     "metadata": {},
     "output_type": "execute_result"
    }
   ],
   "source": [
    "np.sin(d)"
   ]
  },
  {
   "cell_type": "code",
   "execution_count": null,
   "id": "185c341a-db28-4be9-b99b-c2442b7adceb",
   "metadata": {},
   "outputs": [],
   "source": [
    "# # Exercise 2 - Find the cosine of all the numbers in d"
   ]
  },
  {
   "cell_type": "code",
   "execution_count": 89,
   "id": "c45720e7-a01f-410c-9f1e-5f65eafb0183",
   "metadata": {},
   "outputs": [
    {
     "data": {
      "text/plain": [
       "array([[-0.44807362,  0.15425145,  0.52532199,  1.        ,  0.81418097,\n",
       "        -0.59846007],\n",
       "       [ 0.52532199, -0.44807362,  0.15425145,  0.98438195, -0.44807362,\n",
       "         1.        ],\n",
       "       [-0.95241298,  0.52532199,  0.52532199, -0.44807362,  0.52532199,\n",
       "        -0.59846007]])"
      ]
     },
     "execution_count": 89,
     "metadata": {},
     "output_type": "execute_result"
    }
   ],
   "source": [
    "np.cos(d)"
   ]
  },
  {
   "cell_type": "code",
   "execution_count": null,
   "id": "b51750ab-e731-4fda-9178-7ba1fd398f6a",
   "metadata": {},
   "outputs": [],
   "source": [
    "# # Exercise 3 - Find the tangent of all the numbers in d"
   ]
  },
  {
   "cell_type": "code",
   "execution_count": 90,
   "id": "52e4db2d-6a07-4dce-88fc-ae5694a4d801",
   "metadata": {},
   "outputs": [
    {
     "data": {
      "text/plain": [
       "array([[-1.99520041, -6.4053312 ,  1.61977519,  0.        ,  0.71312301,\n",
       "         1.33869021],\n",
       "       [ 1.61977519,  1.99520041,  6.4053312 , -0.17883906, -1.99520041,\n",
       "         0.        ],\n",
       "       [ 0.32004039,  1.61977519, -1.61977519, -1.99520041, -1.61977519,\n",
       "         1.33869021]])"
      ]
     },
     "execution_count": 90,
     "metadata": {},
     "output_type": "execute_result"
    }
   ],
   "source": [
    "np.tan(d)"
   ]
  },
  {
   "cell_type": "code",
   "execution_count": null,
   "id": "c3173111-48f9-45ae-8515-106789043c42",
   "metadata": {},
   "outputs": [],
   "source": [
    "# # Exercise 4 - Find all the negative numbers in d"
   ]
  },
  {
   "cell_type": "code",
   "execution_count": 91,
   "id": "d83ace04-b88f-4f0d-8e44-428e435031af",
   "metadata": {},
   "outputs": [
    {
     "data": {
      "text/plain": [
       "array([-90, -30, -45, -45])"
      ]
     },
     "execution_count": 91,
     "metadata": {},
     "output_type": "execute_result"
    }
   ],
   "source": [
    "d[d < 0]"
   ]
  },
  {
   "cell_type": "code",
   "execution_count": null,
   "id": "d0ff8c23-19db-4c73-8838-e77d1241b6ea",
   "metadata": {},
   "outputs": [],
   "source": [
    "# # Exercise 5 - Find all the positive numbers in d"
   ]
  },
  {
   "cell_type": "code",
   "execution_count": 92,
   "id": "7f449f97-f85b-48b7-bd4b-936640b1a43b",
   "metadata": {},
   "outputs": [
    {
     "data": {
      "text/plain": [
       "array([ 90,  30,  45, 120, 180,  45, 270,  90,  60,  45,  90, 180])"
      ]
     },
     "execution_count": 92,
     "metadata": {},
     "output_type": "execute_result"
    }
   ],
   "source": [
    "d[d > 0]"
   ]
  },
  {
   "cell_type": "code",
   "execution_count": null,
   "id": "c10894cf-9f1c-428a-9ea6-fe05d6f467b0",
   "metadata": {},
   "outputs": [],
   "source": [
    "# # Exercise 6 - Return an array of only the unique numbers in d."
   ]
  },
  {
   "cell_type": "code",
   "execution_count": 95,
   "id": "739d1fb0-4cac-46cc-93ed-282aa8207911",
   "metadata": {},
   "outputs": [
    {
     "data": {
      "text/plain": [
       "array([-90, -45, -30,   0,  30,  45,  60,  90, 120, 180, 270])"
      ]
     },
     "execution_count": 95,
     "metadata": {},
     "output_type": "execute_result"
    }
   ],
   "source": [
    "np.unique(d)"
   ]
  },
  {
   "cell_type": "code",
   "execution_count": null,
   "id": "a2b67208-f0a6-451e-a753-b2f94ad749bd",
   "metadata": {},
   "outputs": [],
   "source": [
    "# # Exercise 7 - Determine how many unique numbers there are in d."
   ]
  },
  {
   "cell_type": "code",
   "execution_count": 96,
   "id": "e7d020d2-8447-4674-bd81-7e89a8f59919",
   "metadata": {},
   "outputs": [
    {
     "data": {
      "text/plain": [
       "11"
      ]
     },
     "execution_count": 96,
     "metadata": {},
     "output_type": "execute_result"
    }
   ],
   "source": [
    "len(np.unique(d))"
   ]
  },
  {
   "cell_type": "code",
   "execution_count": null,
   "id": "9906184a-6392-4841-b8b3-85f3b261d10c",
   "metadata": {},
   "outputs": [],
   "source": [
    "# # Exercise 8 - Print out the shape of d."
   ]
  },
  {
   "cell_type": "code",
   "execution_count": 97,
   "id": "a86db31b-b011-4dea-a4c4-09d011668b99",
   "metadata": {},
   "outputs": [
    {
     "data": {
      "text/plain": [
       "(3, 6)"
      ]
     },
     "execution_count": 97,
     "metadata": {},
     "output_type": "execute_result"
    }
   ],
   "source": [
    "d.shape"
   ]
  },
  {
   "cell_type": "code",
   "execution_count": null,
   "id": "d2eaea5e-f1ee-422c-8c8a-e4162735b9d0",
   "metadata": {},
   "outputs": [],
   "source": [
    "# # Exercise 9 - Transpose and then print out the shape of d."
   ]
  },
  {
   "cell_type": "code",
   "execution_count": 98,
   "id": "6a9a42cc-561a-4dd7-875b-1dbcfccbf4f3",
   "metadata": {},
   "outputs": [
    {
     "data": {
      "text/plain": [
       "(6, 3)"
      ]
     },
     "execution_count": 98,
     "metadata": {},
     "output_type": "execute_result"
    }
   ],
   "source": [
    "d.transpose().shape"
   ]
  },
  {
   "cell_type": "code",
   "execution_count": 99,
   "id": "85fc7adf-8f88-4292-8664-5fdf4cd39dfa",
   "metadata": {},
   "outputs": [
    {
     "data": {
      "text/plain": [
       "18"
      ]
     },
     "execution_count": 99,
     "metadata": {},
     "output_type": "execute_result"
    }
   ],
   "source": [
    "d.size"
   ]
  },
  {
   "cell_type": "code",
   "execution_count": null,
   "id": "06a742dd-3017-45b4-ae08-a992ddbf17a6",
   "metadata": {},
   "outputs": [],
   "source": [
    "# # Exercise 10 - Reshape d into an array of 9 x 2"
   ]
  },
  {
   "cell_type": "code",
   "execution_count": 100,
   "id": "0980cf90-db5c-403e-89d8-5900ee047203",
   "metadata": {},
   "outputs": [
    {
     "data": {
      "text/plain": [
       "array([[ 90,  30],\n",
       "       [ 45,   0],\n",
       "       [120, 180],\n",
       "       [ 45, -90],\n",
       "       [-30, 270],\n",
       "       [ 90,   0],\n",
       "       [ 60,  45],\n",
       "       [-45,  90],\n",
       "       [-45, 180]])"
      ]
     },
     "execution_count": 100,
     "metadata": {},
     "output_type": "execute_result"
    }
   ],
   "source": [
    "np.reshape(d, (9,2))"
   ]
  },
  {
   "cell_type": "code",
   "execution_count": 101,
   "id": "f9de37a6-c0e3-42ee-a9a0-a35742c18756",
   "metadata": {},
   "outputs": [
    {
     "data": {
      "text/plain": [
       "array([[ 90,  30],\n",
       "       [ 45,   0],\n",
       "       [120, 180],\n",
       "       [ 45, -90],\n",
       "       [-30, 270],\n",
       "       [ 90,   0],\n",
       "       [ 60,  45],\n",
       "       [-45,  90],\n",
       "       [-45, 180]])"
      ]
     },
     "execution_count": 101,
     "metadata": {},
     "output_type": "execute_result"
    }
   ],
   "source": [
    "d.reshape(9,2)"
   ]
  },
  {
   "cell_type": "code",
   "execution_count": null,
   "id": "44563796-2026-4832-8e57-f31edb3921cb",
   "metadata": {},
   "outputs": [],
   "source": []
  }
 ],
 "metadata": {
  "kernelspec": {
   "display_name": "Python 3",
   "language": "python",
   "name": "python3"
  },
  "language_info": {
   "codemirror_mode": {
    "name": "ipython",
    "version": 3
   },
   "file_extension": ".py",
   "mimetype": "text/x-python",
   "name": "python",
   "nbconvert_exporter": "python",
   "pygments_lexer": "ipython3",
   "version": "3.9.4"
  }
 },
 "nbformat": 4,
 "nbformat_minor": 5
}
