{
 "cells": [
  {
   "cell_type": "markdown",
   "metadata": {},
   "source": [
    "# Pandas Series\n",
    "\n",
    "- matplotlib, numpy, **pandas**, seaborn, scikit-learn, stats, scipy, ... \n",
    "\n",
    "\n",
    "## Some comparisons\n",
    "\n",
    "______\n",
    "\n",
    "\n",
    "- Numpy: Arrays\n",
    "- Pandas: Series and Dataframes\n",
    "\n",
    "___________ \n",
    "\n",
    "- Series: like a numpy array, but with some additional functionality. \n",
    "\n",
    "\n",
    "- Series: Imagine a single column of a table.  \n",
    "\n",
    "- Dataframes: Imagine the entire table. \n",
    "\n",
    "______\n",
    "\n",
    "How is a series different from a list? \n",
    "\n",
    "- Series contains an index, which can be thought of as a row name (often is a row number), which is a way to reference items. The index is stored with other meta-information (information about the series).   \n",
    "\n",
    "- the elements are of a specific data type. The data type is inferred, but can be manually specified. \n",
    "\n",
    "_____ \n",
    "\n"
   ]
  },
  {
   "cell_type": "markdown",
   "metadata": {},
   "source": [
    "## Import Pandas\n",
    "\n",
    "`import pandas as pd`"
   ]
  },
  {
   "cell_type": "code",
   "execution_count": null,
   "metadata": {},
   "outputs": [],
   "source": []
  },
  {
   "cell_type": "markdown",
   "metadata": {},
   "source": [
    "## Create a Series\n",
    "\n",
    "1. from a list\n",
    "2. from a numpy array\n",
    "3. from a dataframe\n",
    "\n",
    "**Create a Series from a List**"
   ]
  },
  {
   "cell_type": "code",
   "execution_count": null,
   "metadata": {},
   "outputs": [],
   "source": []
  },
  {
   "cell_type": "markdown",
   "metadata": {},
   "source": [
    "In a list, you can use an index to access value in list, and those indices are integers representing location. These indices in a list cannot be changed to be a name, datetime, etc. "
   ]
  },
  {
   "cell_type": "code",
   "execution_count": null,
   "metadata": {},
   "outputs": [],
   "source": []
  },
  {
   "cell_type": "markdown",
   "metadata": {},
   "source": [
    "*but* if we create a series from the list, similar to how you would convert a list to an array with numpy..."
   ]
  },
  {
   "cell_type": "code",
   "execution_count": null,
   "metadata": {},
   "outputs": [],
   "source": []
  },
  {
   "cell_type": "markdown",
   "metadata": {},
   "source": [
    "we can create a series from the list..."
   ]
  },
  {
   "cell_type": "code",
   "execution_count": null,
   "metadata": {},
   "outputs": [],
   "source": []
  },
  {
   "cell_type": "markdown",
   "metadata": {},
   "source": [
    "what's inside the series? "
   ]
  },
  {
   "cell_type": "code",
   "execution_count": null,
   "metadata": {},
   "outputs": [],
   "source": []
  },
  {
   "cell_type": "markdown",
   "metadata": {},
   "source": [
    "- 3 rows, with the row indices (or row names) as [0, 1, 2]\n",
    "- the values are [2, 3, 5]\n",
    "- the datatype is int64 (i.e. will store LARGE integers ;))\n",
    "\n",
    "\n",
    "**Create a Series from an array**\n"
   ]
  },
  {
   "cell_type": "code",
   "execution_count": null,
   "metadata": {},
   "outputs": [],
   "source": []
  },
  {
   "cell_type": "code",
   "execution_count": null,
   "metadata": {},
   "outputs": [],
   "source": [
    "# create series from array\n",
    "my_series = pd.Series(my_array)\n",
    "\n",
    "type(my_series)"
   ]
  },
  {
   "cell_type": "code",
   "execution_count": null,
   "metadata": {},
   "outputs": [],
   "source": [
    "my_series"
   ]
  },
  {
   "cell_type": "markdown",
   "metadata": {},
   "source": [
    "- 3 rows, with the row indices as [0, 1, 2]\n",
    "- the values are [8.0, 13.0, 21.0]\n",
    "- the datatype is float64\n",
    "\n",
    "**Create a Series from a dataframe**\n"
   ]
  },
  {
   "cell_type": "code",
   "execution_count": null,
   "metadata": {},
   "outputs": [],
   "source": [
    "# create the dataframe\n",
    "my_df = data('sleepstudy')\n",
    "my_df.head()"
   ]
  },
  {
   "cell_type": "markdown",
   "metadata": {},
   "source": [
    "Create a Series from one column of the dataframe\n",
    "\n",
    "**option 1: dot column_name**\n",
    "\n",
    "`my_df.column_name`"
   ]
  },
  {
   "cell_type": "code",
   "execution_count": null,
   "metadata": {},
   "outputs": [],
   "source": [
    "my_series = my_df.Reaction\n",
    "print(type(my_series))\n",
    "# my_series"
   ]
  },
  {
   "cell_type": "markdown",
   "metadata": {},
   "source": [
    "**option 2: single bracket**\n",
    "\n",
    "\n",
    "`my_df[column_name]`"
   ]
  },
  {
   "cell_type": "code",
   "execution_count": null,
   "metadata": {},
   "outputs": [],
   "source": [
    "my_series = my_df['Reaction']\n",
    "print(type(my_series))"
   ]
  },
  {
   "cell_type": "markdown",
   "metadata": {},
   "source": [
    "**What happens when you do a double bracket?**\n",
    "\n",
    "`my_df[[column_name]]`"
   ]
  },
  {
   "cell_type": "code",
   "execution_count": null,
   "metadata": {},
   "outputs": [],
   "source": [
    "my_dataframe_that_resembles_a_series = my_df[['Reaction']]\n",
    "print(type(my_dataframe_that_resembles_a_series))"
   ]
  },
  {
   "cell_type": "markdown",
   "metadata": {},
   "source": [
    "**See first 5 rows**\n",
    "\n",
    "`my_series.head()`"
   ]
  },
  {
   "cell_type": "code",
   "execution_count": null,
   "metadata": {},
   "outputs": [],
   "source": [
    "my_series.head()"
   ]
  },
  {
   "cell_type": "code",
   "execution_count": null,
   "metadata": {},
   "outputs": [],
   "source": [
    "my_dataframe_that_resembles_a_series.head()"
   ]
  },
  {
   "cell_type": "markdown",
   "metadata": {},
   "source": [
    "### Summary\n",
    "\n",
    "Create series \n",
    "\n",
    "...from list, array, dictionary"
   ]
  },
  {
   "cell_type": "code",
   "execution_count": null,
   "metadata": {},
   "outputs": [],
   "source": [
    "myseries = pd.Series(my_list)\n",
    "myseries"
   ]
  },
  {
   "cell_type": "markdown",
   "metadata": {},
   "source": [
    "...from existing dataframe"
   ]
  },
  {
   "cell_type": "code",
   "execution_count": null,
   "metadata": {},
   "outputs": [],
   "source": [
    "myseries = my_df['Reaction']\n",
    "myseries = my_df.Reaction\n",
    "myseries"
   ]
  },
  {
   "cell_type": "markdown",
   "metadata": {},
   "source": [
    "## Pandas data types\n",
    "\n",
    "Data types you will see in series and dataframes: \n",
    "\n",
    "- int: integer, whole number values  \n",
    "- float: decimal numbers  \n",
    "- bool: true or false values  \n",
    "- object: strings  \n",
    "- category: a fixed set of string values  \n",
    "- a name, an optional human-friendly name for the series  \n",
    "\n",
    "There are 2 ways a new Series gets its data type...\n",
    "\n",
    "1. Inference of data type\n",
    "2. Assignment of data type\n",
    "\n",
    "_______________________________\n",
    "\n",
    "1. Inference of data types: when creating the series, Pandas infers the data type based on the data entered. "
   ]
  },
  {
   "cell_type": "code",
   "execution_count": null,
   "metadata": {},
   "outputs": [],
   "source": [
    "# inferring\n",
    "\n",
    "pd.Series([True, False, True])"
   ]
  },
  {
   "cell_type": "code",
   "execution_count": null,
   "metadata": {},
   "outputs": [],
   "source": [
    "pd.Series(['I', 'Love', 'Codeup'])"
   ]
  },
  {
   "cell_type": "code",
   "execution_count": null,
   "metadata": {},
   "outputs": [],
   "source": [
    "pd.Series([1, 3, 'five'])"
   ]
  },
  {
   "cell_type": "code",
   "execution_count": null,
   "metadata": {},
   "outputs": [],
   "source": [
    "my_series = pd.Series([1, 3, 'five'])\n",
    "\n",
    "my_new_series = my_series[my_series != 'five']\n",
    "\n",
    "my_new_series"
   ]
  },
  {
   "cell_type": "markdown",
   "metadata": {},
   "source": [
    "2. Assignment of data type: Using `astype()` to assign data types"
   ]
  },
  {
   "cell_type": "code",
   "execution_count": null,
   "metadata": {},
   "outputs": [],
   "source": [
    "# `astype()`\n",
    "\n",
    "my_new_series.astype('int')"
   ]
  },
  {
   "cell_type": "markdown",
   "metadata": {},
   "source": [
    "If we try to assign a data type to data that cannot be coerced into that type, we will get an error. \n",
    "For example, If we assign the series, my_series, to an integer type, Pandas will return error becuase it can't convert 'five'to an int. "
   ]
  },
  {
   "cell_type": "code",
   "execution_count": null,
   "metadata": {},
   "outputs": [],
   "source": [
    "# my_series.astype('int') "
   ]
  },
  {
   "cell_type": "code",
   "execution_count": null,
   "metadata": {},
   "outputs": [],
   "source": [
    "# convert numeric type to string\n",
    "subj_series = my_df['Subject'].astype('str')\n",
    "subj_series"
   ]
  },
  {
   "cell_type": "markdown",
   "metadata": {},
   "source": [
    "### Summary\n",
    "\n",
    "- Pandas will infer datatypes\n",
    "- You can change datatypes upon creating the series `pd.Series(mylist).astype('int')` or later using \"astype(x)\" where x can be 'float', 'int', 'str', e.g. `myseries.astype('str')`\n",
    "- astype('str') will show the series dtype = object. \n",
    "\n",
    "_____________________________________\n",
    "_____________________________________"
   ]
  },
  {
   "cell_type": "markdown",
   "metadata": {},
   "source": [
    "## Vectorized Operations\n",
    "\n",
    "Like numpy arrays, pandas series are vectorized by default. E.g., we can easily use the basic arithmetic operators to manipulate every element in the series.\n",
    "\n",
    "First, let's create 2 series, s1 and s2:"
   ]
  },
  {
   "cell_type": "code",
   "execution_count": null,
   "metadata": {},
   "outputs": [],
   "source": [
    "s1 = pd.Series([2, 3, 5, 8])\n",
    "\n",
    "s1.head()"
   ]
  },
  {
   "cell_type": "code",
   "execution_count": null,
   "metadata": {},
   "outputs": [],
   "source": [
    "s2 = my_df.Reaction\n",
    "s2.head()"
   ]
  },
  {
   "cell_type": "markdown",
   "metadata": {},
   "source": [
    "We will now perform arithmetic operations followed by comparison operations..."
   ]
  },
  {
   "cell_type": "code",
   "execution_count": null,
   "metadata": {},
   "outputs": [],
   "source": [
    "s1 + 1"
   ]
  },
  {
   "cell_type": "code",
   "execution_count": null,
   "metadata": {},
   "outputs": [],
   "source": [
    "s1/2"
   ]
  },
  {
   "cell_type": "markdown",
   "metadata": {},
   "source": [
    "Now, comparison operations"
   ]
  },
  {
   "cell_type": "code",
   "execution_count": null,
   "metadata": {},
   "outputs": [],
   "source": [
    "s1 >= 5"
   ]
  },
  {
   "cell_type": "code",
   "execution_count": null,
   "metadata": {},
   "outputs": [],
   "source": [
    "(s1 >= 3) & (s1 % 2 == 0)"
   ]
  },
  {
   "cell_type": "markdown",
   "metadata": {},
   "source": [
    "### Summary\n",
    "\n",
    "- Just as in Numpy, we can perform operations on each element in the series by simply applying the series, s + 1, s/2, s == 3, etc. and each will be evaluated. \n",
    "\n",
    "- a series is always returned\n",
    "- a series of booleans if we are giving condition statements. \n",
    "- a series of transformed values if we are doing an arithmetic operation. \n",
    "\n",
    "\n",
    "_______________________________________________________\n",
    "_______________________________________________________"
   ]
  },
  {
   "cell_type": "markdown",
   "metadata": {},
   "source": [
    "## Series Methods\n",
    "\n",
    "### Methods to get glimpses into the series\n",
    "\n",
    "`.head()`: returns the 1st 5 rows (max) of the series"
   ]
  },
  {
   "cell_type": "code",
   "execution_count": null,
   "metadata": {},
   "outputs": [],
   "source": [
    "s1.head()"
   ]
  },
  {
   "cell_type": "code",
   "execution_count": null,
   "metadata": {},
   "outputs": [],
   "source": [
    "s2.head()"
   ]
  },
  {
   "cell_type": "markdown",
   "metadata": {},
   "source": [
    "`.tail()`: returns the last 5 rows of the series"
   ]
  },
  {
   "cell_type": "code",
   "execution_count": null,
   "metadata": {},
   "outputs": [],
   "source": [
    "s2.tail()"
   ]
  },
  {
   "cell_type": "markdown",
   "metadata": {},
   "source": [
    "`.value_counts()`: count number of records/items/rows containing each unique value (think \"group by\")\n",
    "\n",
    "```sql\n",
    "select Days, count(Subject) from my_df group by Days;\n",
    "```"
   ]
  },
  {
   "cell_type": "code",
   "execution_count": null,
   "metadata": {},
   "outputs": [],
   "source": [
    "s3 = my_df.Days\n",
    "\n",
    "s3.value_counts()"
   ]
  },
  {
   "cell_type": "markdown",
   "metadata": {},
   "source": [
    "### Methods to test whether a value or condition exists in the series\n",
    "\n",
    "`.any()`: returns a single boolean...do any values in the series meet the condition? "
   ]
  },
  {
   "cell_type": "code",
   "execution_count": null,
   "metadata": {},
   "outputs": [],
   "source": [
    "(s1 > 3).any()"
   ]
  },
  {
   "cell_type": "markdown",
   "metadata": {},
   "source": [
    "`.all()`: returns a single boolean...do all values in the series meet the condition? "
   ]
  },
  {
   "cell_type": "code",
   "execution_count": null,
   "metadata": {},
   "outputs": [],
   "source": [
    "(s1 > 3).all()"
   ]
  },
  {
   "cell_type": "markdown",
   "metadata": {},
   "source": [
    "`.isin()`: comparing string of each item in series to a list of strings. Is the string in your series found in the list of strings? Returns a series of boolean values. \n",
    "In other words, use `isin()` to tell whether each value is in a set of known values. "
   ]
  },
  {
   "cell_type": "code",
   "execution_count": null,
   "metadata": {},
   "outputs": [],
   "source": [
    "vowels = list('aeiouy')\n",
    "letters = list('abcdefghijkeliminnow')\n",
    "letters_series = pd.Series(letters)\n",
    "letters_series"
   ]
  },
  {
   "cell_type": "code",
   "execution_count": null,
   "metadata": {},
   "outputs": [],
   "source": [
    "s3.value_counts()\n",
    "s3"
   ]
  },
  {
   "cell_type": "code",
   "execution_count": null,
   "metadata": {},
   "outputs": [],
   "source": [
    "letters_series.isin(vowels).value_counts()"
   ]
  },
  {
   "cell_type": "markdown",
   "metadata": {},
   "source": [
    "### Methods for Descriptive statistics\n",
    "\n",
    "- `count()`\n",
    "- `sum()`\n",
    "- `mean()`\n",
    "- `median()`\n",
    "- `min()`\n",
    "- `max()`\n",
    "- `mode()`\n",
    "- `abs()`\n",
    "- `std()`\n",
    "- `quantile()`"
   ]
  },
  {
   "cell_type": "code",
   "execution_count": null,
   "metadata": {},
   "outputs": [],
   "source": [
    "{\n",
    "    'count': s2.count(),\n",
    "    'sum': s2.sum(),\n",
    "    'mean': s2.mean(),\n",
    "    'median': s2.median()\n",
    "    \n",
    "}"
   ]
  },
  {
   "cell_type": "code",
   "execution_count": null,
   "metadata": {},
   "outputs": [],
   "source": [
    "s2.describe()"
   ]
  },
  {
   "cell_type": "code",
   "execution_count": null,
   "metadata": {},
   "outputs": [],
   "source": [
    "print(s1)\n",
    "s1.describe()"
   ]
  },
  {
   "cell_type": "markdown",
   "metadata": {},
   "source": [
    "### Applying other functions to each item in a series\n",
    "\n",
    "1. Define the function: `def myfcn()`\n",
    "2. Use the .apply method with lambda: `series.apply(lambda n: <myfuction>)`"
   ]
  },
  {
   "cell_type": "code",
   "execution_count": null,
   "metadata": {},
   "outputs": [],
   "source": [
    "def even_or_odd(n):\n",
    "    '''\n",
    "    this function takes a number and returns a string indicating \n",
    "    whether the passed number is even or odd\n",
    "    '''\n",
    "    if n % 2 == 0:\n",
    "        return 'even'\n",
    "    else:\n",
    "        return 'odd'\n",
    "\n",
    "s1.apply(even_or_odd)"
   ]
  },
  {
   "cell_type": "code",
   "execution_count": null,
   "metadata": {},
   "outputs": [],
   "source": [
    "s1.apply(lambda n: 'even' if n % 2 == 0 else 'odd')"
   ]
  },
  {
   "cell_type": "markdown",
   "metadata": {},
   "source": [
    "### Vectorized String Operations\n",
    "\n",
    "We could do this...`series.apply(lambda s: s.lower())`, but, why when we have...`series.str.lower()`\n",
    "\n",
    "Once we access the .str property, we can treat the resulting value as if it were a string. In our case, we called the .lower method, which will convert all the strings in the series to lower case."
   ]
  },
  {
   "cell_type": "code",
   "execution_count": null,
   "metadata": {},
   "outputs": [],
   "source": [
    "s4 = pd.Series(['Madeleine', 'Misty', 'John', 'John', 'Ryan', 'Ryan', 'Adam', 'Adam', 'Margaret'])"
   ]
  },
  {
   "cell_type": "code",
   "execution_count": null,
   "metadata": {},
   "outputs": [],
   "source": [
    "# s4.apply(lambda s: s.lower())\n",
    "s4.str.lower()"
   ]
  },
  {
   "cell_type": "code",
   "execution_count": null,
   "metadata": {},
   "outputs": [],
   "source": [
    "s4 = s4.str.replace('rgaret', 'ggie')"
   ]
  },
  {
   "cell_type": "code",
   "execution_count": null,
   "metadata": {},
   "outputs": [],
   "source": [
    "s4"
   ]
  },
  {
   "cell_type": "markdown",
   "metadata": {},
   "source": [
    "### Summary\n",
    "\n",
    "Methods look like functions, but you can tell they are methods because they start with the series variable name followed by the .method_name(), such as my_series.count(). Whereas pandas functions will begin with pd.concat(s1, s2). \n",
    "\n",
    "We talked about \n",
    "\n",
    "1. Methods to get glimpses into the series\n",
    "\n",
    "2. Methods to test whether a value or condition exists in the series\n",
    "\n",
    "3. Methods for Descriptive statistics\n",
    "\n",
    "4. Methods for Applying other functions to each item in a series\n",
    "\n",
    "5. Vectorized String Operations\n",
    "\n",
    "__________________________________________\n",
    "__________________________________________\n",
    "\n",
    "\n",
    "## Subsetting & Indexing"
   ]
  },
  {
   "cell_type": "code",
   "execution_count": null,
   "metadata": {},
   "outputs": [],
   "source": [
    "s2.describe()\n",
    "# let's change the units from seconds to minutes for interpretability\n",
    "s2_minutes = s2/60\n",
    "\n",
    "\n",
    "# it's a series!\n",
    "type(s2_minutes.describe())"
   ]
  },
  {
   "cell_type": "markdown",
   "metadata": {},
   "source": [
    "Find the 75th percentile"
   ]
  },
  {
   "cell_type": "code",
   "execution_count": null,
   "metadata": {},
   "outputs": [],
   "source": [
    "s2_minutes.describe()['75%']"
   ]
  },
  {
   "cell_type": "markdown",
   "metadata": {},
   "source": [
    "Find all where response time is > 3rd quartile, using the identified the cutoff for 3rd to 4th quartile. "
   ]
  },
  {
   "cell_type": "code",
   "execution_count": null,
   "metadata": {},
   "outputs": [],
   "source": [
    "q3 = s2_minutes.describe()['75%']\n",
    "\n",
    "# subsetted our series to only those values that are in the 4th quartile\n",
    "s2_minutes[s2_minutes > q3]"
   ]
  },
  {
   "cell_type": "markdown",
   "metadata": {},
   "source": [
    "Create a new series that contains labels of 'q4' if the value is above the 3rd q, or 'q1-q3' if not. "
   ]
  },
  {
   "cell_type": "code",
   "execution_count": null,
   "metadata": {},
   "outputs": [],
   "source": [
    "s2_minutes.apply(lambda n: 'q4' if n > q3 else 'q1-q3')"
   ]
  },
  {
   "cell_type": "markdown",
   "metadata": {},
   "source": [
    "Filter our letters series "
   ]
  },
  {
   "cell_type": "code",
   "execution_count": null,
   "metadata": {},
   "outputs": [],
   "source": [
    "letters_series[letters_series.isin(vowels)]"
   ]
  },
  {
   "cell_type": "markdown",
   "metadata": {},
   "source": [
    "## Numerical to Categorical Values - Binning & Cutting\n",
    "\n",
    "`cut()` put numerical values into discrete bins. \n",
    "\n",
    "We can let pandas create bins of even intervals, or we can specify the bins to create. "
   ]
  },
  {
   "cell_type": "code",
   "execution_count": null,
   "metadata": {},
   "outputs": [],
   "source": [
    "reaction_bins_auto_series = pd.cut(s2_minutes, 4)"
   ]
  },
  {
   "cell_type": "code",
   "execution_count": null,
   "metadata": {},
   "outputs": [],
   "source": [
    "reaction_bins_auto_series.value_counts()"
   ]
  },
  {
   "cell_type": "code",
   "execution_count": null,
   "metadata": {},
   "outputs": [],
   "source": [
    "reaction_bins_series = pd.cut(s2_minutes, [3, 4, 5, 6, 7, 8])"
   ]
  },
  {
   "cell_type": "code",
   "execution_count": null,
   "metadata": {},
   "outputs": [],
   "source": [
    "reaction_bins_series.value_counts()"
   ]
  },
  {
   "cell_type": "markdown",
   "metadata": {},
   "source": [
    "## Plotting"
   ]
  },
  {
   "cell_type": "code",
   "execution_count": null,
   "metadata": {},
   "outputs": [],
   "source": [
    "import matplotlib.pyplot as plt\n",
    "plt.hist(s2_minutes)\n",
    "plt.show()"
   ]
  },
  {
   "cell_type": "code",
   "execution_count": null,
   "metadata": {},
   "outputs": [],
   "source": [
    "s2_minutes.plot()"
   ]
  },
  {
   "cell_type": "code",
   "execution_count": null,
   "metadata": {},
   "outputs": [],
   "source": [
    "s2_minutes.plot.hist()"
   ]
  },
  {
   "cell_type": "code",
   "execution_count": null,
   "metadata": {
    "scrolled": true
   },
   "outputs": [],
   "source": [
    "reaction_bins_series.value_counts().plot.bar(color='slateblue', width=.9)\n",
    "plt.title('Reaction Time Bins')"
   ]
  },
  {
   "cell_type": "code",
   "execution_count": null,
   "metadata": {},
   "outputs": [],
   "source": []
  }
 ],
 "metadata": {
  "kernelspec": {
   "display_name": "Python 3",
   "language": "python",
   "name": "python3"
  },
  "language_info": {
   "codemirror_mode": {
    "name": "ipython",
    "version": 3
   },
   "file_extension": ".py",
   "mimetype": "text/x-python",
   "name": "python",
   "nbconvert_exporter": "python",
   "pygments_lexer": "ipython3",
   "version": "3.8.8"
  }
 },
 "nbformat": 4,
 "nbformat_minor": 2
}
